{
 "cells": [
  {
   "cell_type": "code",
   "execution_count": null,
   "metadata": {},
   "outputs": [],
   "source": []
  },
  {
   "cell_type": "code",
   "execution_count": 126,
   "metadata": {},
   "outputs": [],
   "source": [
    "import os, sys\n",
    "from pathlib import Path\n",
    "\n",
    "from dotenv import load_dotenv\n",
    "import matplotlib.pyplot as plt\n",
    "import numpy as np\n",
    "import pandas as pd\n",
    "\n",
    "load_dotenv()\n",
    "\n",
    "sys.path.insert(0, os.getenv(\"repo_path\"))\n",
    "\n",
    "from Methods.video_tracking import loading as vload\n"
   ]
  },
  {
   "cell_type": "code",
   "execution_count": 104,
   "metadata": {},
   "outputs": [
    {
     "name": "stdout",
     "output_type": "stream",
     "text": [
      "2023-03-04 15:35:41,996 - INFO - Threshold for removing data = 0.6\n",
      "2023-03-04 15:35:42,004 - INFO - Interpolation settings: {'method': 'linear', 'limit_direction': 'both', 'limit_area': 'inside'}\n"
     ]
    }
   ],
   "source": [
    "data_dir = Path(os.getenv(\"local_home\")) / \"Task_Switching/head_tracking\"\n",
    "log_file = '2023-03-04_DLC_alignSyncInterp_15-35-41.log'\n",
    "\n",
    "with open( data_dir / log_file) as f:\n",
    "    log_info = f.read().splitlines()\n",
    "\n",
    "print(log_info.pop(0))      # threshold settings\n",
    "print(log_info.pop(0))      # interpolation settings\n"
   ]
  },
  {
   "cell_type": "code",
   "execution_count": 159,
   "metadata": {},
   "outputs": [
    {
     "data": {
      "text/html": [
       "<div>\n",
       "<style scoped>\n",
       "    .dataframe tbody tr th:only-of-type {\n",
       "        vertical-align: middle;\n",
       "    }\n",
       "\n",
       "    .dataframe tbody tr th {\n",
       "        vertical-align: top;\n",
       "    }\n",
       "\n",
       "    .dataframe thead th {\n",
       "        text-align: right;\n",
       "    }\n",
       "</style>\n",
       "<table border=\"1\" class=\"dataframe\">\n",
       "  <thead>\n",
       "    <tr style=\"text-align: right;\">\n",
       "      <th></th>\n",
       "      <th>ferret</th>\n",
       "      <th>block</th>\n",
       "      <th>landmark</th>\n",
       "      <th>n_missing</th>\n",
       "      <th>n_total</th>\n",
       "      <th>percent_missing</th>\n",
       "    </tr>\n",
       "  </thead>\n",
       "  <tbody>\n",
       "    <tr>\n",
       "      <th>0</th>\n",
       "      <td>1605</td>\n",
       "      <td>J5-20</td>\n",
       "      <td>red_LED</td>\n",
       "      <td>1945</td>\n",
       "      <td>24004</td>\n",
       "      <td>8.102816</td>\n",
       "    </tr>\n",
       "    <tr>\n",
       "      <th>1</th>\n",
       "      <td>1605</td>\n",
       "      <td>J5-20</td>\n",
       "      <td>blue_LED</td>\n",
       "      <td>1784</td>\n",
       "      <td>24004</td>\n",
       "      <td>7.432095</td>\n",
       "    </tr>\n",
       "    <tr>\n",
       "      <th>2</th>\n",
       "      <td>1605</td>\n",
       "      <td>J5-20</td>\n",
       "      <td>nose</td>\n",
       "      <td>2814</td>\n",
       "      <td>24004</td>\n",
       "      <td>11.723046</td>\n",
       "    </tr>\n",
       "    <tr>\n",
       "      <th>3</th>\n",
       "      <td>1605</td>\n",
       "      <td>J5-20</td>\n",
       "      <td>head</td>\n",
       "      <td>1334</td>\n",
       "      <td>24004</td>\n",
       "      <td>5.557407</td>\n",
       "    </tr>\n",
       "  </tbody>\n",
       "</table>\n",
       "</div>"
      ],
      "text/plain": [
       "   ferret  block  landmark  n_missing  n_total  percent_missing\n",
       "0    1605  J5-20   red_LED       1945    24004         8.102816\n",
       "1    1605  J5-20  blue_LED       1784    24004         7.432095\n",
       "2    1605  J5-20      nose       2814    24004        11.723046\n",
       "3    1605  J5-20      head       1334    24004         5.557407"
      ]
     },
     "execution_count": 159,
     "metadata": {},
     "output_type": "execute_result"
    }
   ],
   "source": [
    "data = []\n",
    "\n",
    "for line in log_info:\n",
    "\n",
    "    [dt, state, msg] = line.split(' - ')\n",
    "    msg_parts = msg.split(' ')\n",
    "\n",
    "    # Strip details about current block\n",
    "    if 'interpolation limit' in  line:\n",
    "        current_ferret = int(msg_parts[1][1:])\n",
    "        current_block = msg_parts[2].replace('Block_','').replace(':','')\n",
    "        \n",
    "    # Strip details about current landmark and amount of missing data\n",
    "    elif \"masked\" in line:\n",
    "        \n",
    "        data.append({\n",
    "            'ferret': current_ferret,\n",
    "            'block': current_block,\n",
    "            'landmark': msg_parts[0].replace(':',''),\n",
    "            'n_missing': int(msg_parts[1]),\n",
    "            'n_total': int(msg_parts[3])\n",
    "        })\n",
    "\n",
    "df = pd.DataFrame(data)\n",
    "df = df.assign(percent_missing = lambda x: (x.n_missing / x.n_total) * 100)\n",
    "df.head(4)"
   ]
  },
  {
   "attachments": {},
   "cell_type": "markdown",
   "metadata": {},
   "source": [
    "Let's start by getting an overview on the distribution of low_likelihood data across sessions for each landmark. Interestingly, the most reliable landmark isn't on the head, but the shoulders, which makes sense in terms of being more visible when the animal is at the response port. There isn't a huge amount of difference with the head landmark (as we'll see below when looking at the correlations between landmarks) but the shoulders are a potential site of interest if we want to recover low exposure videos without LEDs."
   ]
  },
  {
   "cell_type": "code",
   "execution_count": 84,
   "metadata": {},
   "outputs": [
    {
     "data": {
      "image/png": "[encoded data removed]",
      "text/plain": [
       "<Figure size 432x288 with 1 Axes>"
      ]
     },
     "metadata": {
      "needs_background": "light"
     },
     "output_type": "display_data"
    }
   ],
   "source": [
    "sns.stripplot(\n",
    "    data = df,\n",
    "    x = 'landmark',\n",
    "    y = 'percent_missing',\n",
    "    s = 1\n",
    ")\n",
    "\n",
    "plt.show()"
   ]
  },
  {
   "cell_type": "code",
   "execution_count": 60,
   "metadata": {},
   "outputs": [
    {
     "data": {
      "text/html": [
       "<div>\n",
       "<style scoped>\n",
       "    .dataframe tbody tr th:only-of-type {\n",
       "        vertical-align: middle;\n",
       "    }\n",
       "\n",
       "    .dataframe tbody tr th {\n",
       "        vertical-align: top;\n",
       "    }\n",
       "\n",
       "    .dataframe thead th {\n",
       "        text-align: right;\n",
       "    }\n",
       "</style>\n",
       "<table border=\"1\" class=\"dataframe\">\n",
       "  <thead>\n",
       "    <tr style=\"text-align: right;\">\n",
       "      <th></th>\n",
       "      <th>landmark</th>\n",
       "      <th>blue_LED</th>\n",
       "      <th>head</th>\n",
       "      <th>hips</th>\n",
       "      <th>nose</th>\n",
       "      <th>red_LED</th>\n",
       "      <th>shoulders</th>\n",
       "      <th>tail</th>\n",
       "    </tr>\n",
       "    <tr>\n",
       "      <th>ferret</th>\n",
       "      <th>block</th>\n",
       "      <th></th>\n",
       "      <th></th>\n",
       "      <th></th>\n",
       "      <th></th>\n",
       "      <th></th>\n",
       "      <th></th>\n",
       "      <th></th>\n",
       "    </tr>\n",
       "  </thead>\n",
       "  <tbody>\n",
       "    <tr>\n",
       "      <th rowspan=\"3\" valign=\"top\">1506</th>\n",
       "      <th>J1-17:</th>\n",
       "      <td>37.864218</td>\n",
       "      <td>100.0</td>\n",
       "      <td>100.0</td>\n",
       "      <td>100.0</td>\n",
       "      <td>2.674230</td>\n",
       "      <td>100.0</td>\n",
       "      <td>100.0</td>\n",
       "    </tr>\n",
       "    <tr>\n",
       "      <th>J1-19:</th>\n",
       "      <td>11.488222</td>\n",
       "      <td>100.0</td>\n",
       "      <td>100.0</td>\n",
       "      <td>100.0</td>\n",
       "      <td>0.923858</td>\n",
       "      <td>100.0</td>\n",
       "      <td>100.0</td>\n",
       "    </tr>\n",
       "    <tr>\n",
       "      <th>J1-20:</th>\n",
       "      <td>10.474175</td>\n",
       "      <td>100.0</td>\n",
       "      <td>100.0</td>\n",
       "      <td>100.0</td>\n",
       "      <td>1.029226</td>\n",
       "      <td>100.0</td>\n",
       "      <td>100.0</td>\n",
       "    </tr>\n",
       "  </tbody>\n",
       "</table>\n",
       "</div>"
      ],
      "text/plain": [
       "landmark        blue_LED   head   hips   nose   red_LED  shoulders   tail\n",
       "ferret block                                                             \n",
       "1506   J1-17:  37.864218  100.0  100.0  100.0  2.674230      100.0  100.0\n",
       "       J1-19:  11.488222  100.0  100.0  100.0  0.923858      100.0  100.0\n",
       "       J1-20:  10.474175  100.0  100.0  100.0  1.029226      100.0  100.0"
      ]
     },
     "execution_count": 60,
     "metadata": {},
     "output_type": "execute_result"
    }
   ],
   "source": [
    "prc_missing = df.pivot(index=['ferret','block'], columns=\"landmark\", values=\"percent_missing\")\n",
    "prc_missing = prc_missing.fillna(100)\n",
    "\n",
    "prc_missing.head(3)"
   ]
  },
  {
   "cell_type": "code",
   "execution_count": 62,
   "metadata": {},
   "outputs": [
    {
     "data": {
      "image/png": "[encoded data removed]",
      "text/plain": [
       "<Figure size 432x288 with 1 Axes>"
      ]
     },
     "metadata": {
      "needs_background": "light"
     },
     "output_type": "display_data"
    }
   ],
   "source": [
    "prc_missing.plot.scatter(x='blue_LED', y='red_LED', s=1)\n",
    "\n",
    "plt.show()"
   ]
  },
  {
   "cell_type": "code",
   "execution_count": 73,
   "metadata": {},
   "outputs": [
    {
     "data": {
      "text/plain": [
       "<AxesSubplot:xlabel='n_total', ylabel='percent_missing'>"
      ]
     },
     "execution_count": 73,
     "metadata": {},
     "output_type": "execute_result"
    },
    {
     "data": {
      "image/png": "[encoded data removed]",
      "text/plain": [
       "<Figure size 432x288 with 1 Axes>"
      ]
     },
     "metadata": {
      "needs_background": "light"
     },
     "output_type": "display_data"
    }
   ],
   "source": [
    "df.query(\"landmark == 'blue_LED'\").plot.scatter(x='n_total', y='percent_missing', s=1)"
   ]
  },
  {
   "cell_type": "code",
   "execution_count": 75,
   "metadata": {},
   "outputs": [
    {
     "data": {
      "text/html": [
       "<div>\n",
       "<style scoped>\n",
       "    .dataframe tbody tr th:only-of-type {\n",
       "        vertical-align: middle;\n",
       "    }\n",
       "\n",
       "    .dataframe tbody tr th {\n",
       "        vertical-align: top;\n",
       "    }\n",
       "\n",
       "    .dataframe thead th {\n",
       "        text-align: right;\n",
       "    }\n",
       "</style>\n",
       "<table border=\"1\" class=\"dataframe\">\n",
       "  <thead>\n",
       "    <tr style=\"text-align: right;\">\n",
       "      <th>landmark</th>\n",
       "      <th>blue_LED</th>\n",
       "      <th>head</th>\n",
       "      <th>hips</th>\n",
       "      <th>nose</th>\n",
       "      <th>red_LED</th>\n",
       "      <th>shoulders</th>\n",
       "      <th>tail</th>\n",
       "    </tr>\n",
       "    <tr>\n",
       "      <th>landmark</th>\n",
       "      <th></th>\n",
       "      <th></th>\n",
       "      <th></th>\n",
       "      <th></th>\n",
       "      <th></th>\n",
       "      <th></th>\n",
       "      <th></th>\n",
       "    </tr>\n",
       "  </thead>\n",
       "  <tbody>\n",
       "    <tr>\n",
       "      <th>blue_LED</th>\n",
       "      <td>1.000000</td>\n",
       "      <td>0.867828</td>\n",
       "      <td>0.297080</td>\n",
       "      <td>0.563071</td>\n",
       "      <td>0.541113</td>\n",
       "      <td>0.784552</td>\n",
       "      <td>0.359343</td>\n",
       "    </tr>\n",
       "    <tr>\n",
       "      <th>head</th>\n",
       "      <td>0.867828</td>\n",
       "      <td>1.000000</td>\n",
       "      <td>0.298677</td>\n",
       "      <td>0.599273</td>\n",
       "      <td>0.552060</td>\n",
       "      <td>0.946387</td>\n",
       "      <td>0.336395</td>\n",
       "    </tr>\n",
       "    <tr>\n",
       "      <th>hips</th>\n",
       "      <td>0.297080</td>\n",
       "      <td>0.298677</td>\n",
       "      <td>1.000000</td>\n",
       "      <td>0.174611</td>\n",
       "      <td>0.129859</td>\n",
       "      <td>0.379531</td>\n",
       "      <td>0.937169</td>\n",
       "    </tr>\n",
       "    <tr>\n",
       "      <th>nose</th>\n",
       "      <td>0.563071</td>\n",
       "      <td>0.599273</td>\n",
       "      <td>0.174611</td>\n",
       "      <td>1.000000</td>\n",
       "      <td>0.337893</td>\n",
       "      <td>0.542707</td>\n",
       "      <td>0.196539</td>\n",
       "    </tr>\n",
       "    <tr>\n",
       "      <th>red_LED</th>\n",
       "      <td>0.541113</td>\n",
       "      <td>0.552060</td>\n",
       "      <td>0.129859</td>\n",
       "      <td>0.337893</td>\n",
       "      <td>1.000000</td>\n",
       "      <td>0.467897</td>\n",
       "      <td>0.233587</td>\n",
       "    </tr>\n",
       "    <tr>\n",
       "      <th>shoulders</th>\n",
       "      <td>0.784552</td>\n",
       "      <td>0.946387</td>\n",
       "      <td>0.379531</td>\n",
       "      <td>0.542707</td>\n",
       "      <td>0.467897</td>\n",
       "      <td>1.000000</td>\n",
       "      <td>0.401002</td>\n",
       "    </tr>\n",
       "    <tr>\n",
       "      <th>tail</th>\n",
       "      <td>0.359343</td>\n",
       "      <td>0.336395</td>\n",
       "      <td>0.937169</td>\n",
       "      <td>0.196539</td>\n",
       "      <td>0.233587</td>\n",
       "      <td>0.401002</td>\n",
       "      <td>1.000000</td>\n",
       "    </tr>\n",
       "  </tbody>\n",
       "</table>\n",
       "</div>"
      ],
      "text/plain": [
       "landmark   blue_LED      head      hips      nose   red_LED  shoulders  \\\n",
       "landmark                                                                 \n",
       "blue_LED   1.000000  0.867828  0.297080  0.563071  0.541113   0.784552   \n",
       "head       0.867828  1.000000  0.298677  0.599273  0.552060   0.946387   \n",
       "hips       0.297080  0.298677  1.000000  0.174611  0.129859   0.379531   \n",
       "nose       0.563071  0.599273  0.174611  1.000000  0.337893   0.542707   \n",
       "red_LED    0.541113  0.552060  0.129859  0.337893  1.000000   0.467897   \n",
       "shoulders  0.784552  0.946387  0.379531  0.542707  0.467897   1.000000   \n",
       "tail       0.359343  0.336395  0.937169  0.196539  0.233587   0.401002   \n",
       "\n",
       "landmark       tail  \n",
       "landmark             \n",
       "blue_LED   0.359343  \n",
       "head       0.336395  \n",
       "hips       0.937169  \n",
       "nose       0.196539  \n",
       "red_LED    0.233587  \n",
       "shoulders  0.401002  \n",
       "tail       1.000000  "
      ]
     },
     "execution_count": 75,
     "metadata": {},
     "output_type": "execute_result"
    }
   ],
   "source": [
    "# Look at the correlation matrices between landmarks for videos with all landmarks\n",
    "prc_missing.query(\"head < 99\").corr()"
   ]
  },
  {
   "cell_type": "code",
   "execution_count": 118,
   "metadata": {},
   "outputs": [
    {
     "data": {
      "text/html": [
       "<div>\n",
       "<style scoped>\n",
       "    .dataframe tbody tr th:only-of-type {\n",
       "        vertical-align: middle;\n",
       "    }\n",
       "\n",
       "    .dataframe tbody tr th {\n",
       "        vertical-align: top;\n",
       "    }\n",
       "\n",
       "    .dataframe thead th {\n",
       "        text-align: right;\n",
       "    }\n",
       "</style>\n",
       "<table border=\"1\" class=\"dataframe\">\n",
       "  <thead>\n",
       "    <tr style=\"text-align: right;\">\n",
       "      <th>landmark</th>\n",
       "      <th>blue_LED</th>\n",
       "      <th>red_LED</th>\n",
       "    </tr>\n",
       "    <tr>\n",
       "      <th>landmark</th>\n",
       "      <th></th>\n",
       "      <th></th>\n",
       "    </tr>\n",
       "  </thead>\n",
       "  <tbody>\n",
       "    <tr>\n",
       "      <th>blue_LED</th>\n",
       "      <td>1.000000</td>\n",
       "      <td>0.304872</td>\n",
       "    </tr>\n",
       "    <tr>\n",
       "      <th>red_LED</th>\n",
       "      <td>0.304872</td>\n",
       "      <td>1.000000</td>\n",
       "    </tr>\n",
       "  </tbody>\n",
       "</table>\n",
       "</div>"
      ],
      "text/plain": [
       "landmark  blue_LED   red_LED\n",
       "landmark                    \n",
       "blue_LED  1.000000  0.304872\n",
       "red_LED   0.304872  1.000000"
      ]
     },
     "execution_count": 118,
     "metadata": {},
     "output_type": "execute_result"
    }
   ],
   "source": [
    "# Look at the correlation matrices between landmarks for videos with all landmarks\n",
    "led_only_index = prc_missing.query(\"head == 100\").index\n",
    "prc_missing.loc[led_only_index, ['blue_LED','red_LED']].corr()"
   ]
  },
  {
   "attachments": {},
   "cell_type": "markdown",
   "metadata": {},
   "source": [
    "Note that the correlation between LEDs is higher in high exposure than low exposure videos, reflecting the fact that low exposure videos are more likely to only have one LED active (though which one varies between frames)"
   ]
  },
  {
   "cell_type": "code",
   "execution_count": 134,
   "metadata": {},
   "outputs": [
    {
     "data": {
      "image/png": "[encoded data removed]",
      "text/plain": [
       "<Figure size 432x288 with 1 Axes>"
      ]
     },
     "metadata": {
      "needs_background": "light"
     },
     "output_type": "display_data"
    }
   ],
   "source": [
    "# What is the minimum amount of missing data across key landmarks of interest\n",
    "key_landmarks = ['red_LED','blue_LED','head']\n",
    "\n",
    "min_missing = prc_missing[key_landmarks].min(axis=1)\n",
    "min_missing = min_missing.sort_values(ascending=False)\n",
    "\n",
    "min_missing.hist(bins=50, cumulative=True, density=True)\n",
    "plt.xticks(np.arange(0, 110, 10))\n",
    "plt.yticks(np.arange(0.5, 1.1, 0.05))\n",
    "plt.xlabel('Minimum amount of data missing (% of frames)')\n",
    "plt.ylabel('Number of sessions')\n",
    "plt.xlim((0,100))\n",
    "plt.ylim((0.5, 1.0))\n",
    "plt.show()"
   ]
  },
  {
   "attachments": {},
   "cell_type": "markdown",
   "metadata": {},
   "source": [
    "But who are these sessions with >80% of the data missing? \n",
    "\n",
    "It turns out that these are mostly low exposure videos recorded when the animal was not plugged into the recording system. There are thus no LEDs to track, and the video is too dark for reliable monitorring of head position (running the high exposure tracking model on low exposure images gives good results near the central spout, but systematically struggles away from the spout).\n",
    "\n",
    "There is a smaller group of videos in which the LEDs are set to flash rather than remain on constantly (F1506 and F1518 in particular) and this leads to a lot of lost data. It's not clear if these should be removed or just ignored.\n",
    "\n",
    "We can therefore just drop these blocks from the data."
   ]
  },
  {
   "cell_type": "code",
   "execution_count": 119,
   "metadata": {},
   "outputs": [
    {
     "data": {
      "text/plain": [
       "ferret  block \n",
       "1607    J3-45:    100.000000\n",
       "        J3-51:    100.000000\n",
       "        J3-39:    100.000000\n",
       "        J3-42:    100.000000\n",
       "1613    J3-49:    100.000000\n",
       "1607    J3-84:     99.996384\n",
       "        J3-46:     97.270721\n",
       "        J3-47:     93.595681\n",
       "        J3-52:     92.976059\n",
       "1506    J2-11:     89.410378\n",
       "dtype: float64"
      ]
     },
     "execution_count": 119,
     "metadata": {},
     "output_type": "execute_result"
    }
   ],
   "source": [
    "min_missing.head(10)"
   ]
  },
  {
   "cell_type": "code",
   "execution_count": 140,
   "metadata": {},
   "outputs": [
    {
     "data": {
      "text/plain": [
       "ferret  block \n",
       "1506    J2-30:    68.725673\n",
       "1607    J3-26:    67.575705\n",
       "1613    J5-24:    60.153306\n",
       "1607    J3-96:    59.013769\n",
       "1605    J5-3:     53.673458\n",
       "1613    J3-15:    50.834929\n",
       "1607    J3-18:    50.395077\n",
       "1602    J2-41:    46.783070\n",
       "1506    J1-28:    46.354274\n",
       "1607    J5-12:    45.901576\n",
       "        J3-32:    44.859154\n",
       "1518    J2-37:    44.106082\n",
       "        J2-27:    42.365216\n",
       "1613    J4-24:    41.570275\n",
       "1518    J2-29:    41.166328\n",
       "        J2-26:    41.165865\n",
       "1602    J2-49:    40.618245\n",
       "1613    J4-27:    40.458189\n",
       "1518    J2-25:    40.227373\n",
       "        J2-22:    40.119886\n",
       "dtype: float64"
      ]
     },
     "execution_count": 140,
     "metadata": {},
     "output_type": "execute_result"
    }
   ],
   "source": [
    "min_missing = min_missing[min_missing < 70]\n",
    "min_missing.head(20)"
   ]
  },
  {
   "cell_type": "markdown",
   "metadata": {},
   "source": []
  },
  {
   "cell_type": "code",
   "execution_count": 163,
   "metadata": {},
   "outputs": [
    {
     "data": {
      "text/html": [
       "<div>\n",
       "<style scoped>\n",
       "    .dataframe tbody tr th:only-of-type {\n",
       "        vertical-align: middle;\n",
       "    }\n",
       "\n",
       "    .dataframe tbody tr th {\n",
       "        vertical-align: top;\n",
       "    }\n",
       "\n",
       "    .dataframe thead th {\n",
       "        text-align: right;\n",
       "    }\n",
       "</style>\n",
       "<table border=\"1\" class=\"dataframe\">\n",
       "  <thead>\n",
       "    <tr style=\"text-align: right;\">\n",
       "      <th></th>\n",
       "      <th>ferret</th>\n",
       "      <th>block</th>\n",
       "      <th>landmark</th>\n",
       "      <th>n_missing</th>\n",
       "      <th>n_total</th>\n",
       "      <th>percent_missing</th>\n",
       "    </tr>\n",
       "  </thead>\n",
       "  <tbody>\n",
       "    <tr>\n",
       "      <th>3228</th>\n",
       "      <td>1607</td>\n",
       "      <td>J3-19</td>\n",
       "      <td>red_LED</td>\n",
       "      <td>106436</td>\n",
       "      <td>111016</td>\n",
       "      <td>95.874469</td>\n",
       "    </tr>\n",
       "    <tr>\n",
       "      <th>3229</th>\n",
       "      <td>1607</td>\n",
       "      <td>J3-19</td>\n",
       "      <td>blue_LED</td>\n",
       "      <td>70441</td>\n",
       "      <td>111016</td>\n",
       "      <td>63.451214</td>\n",
       "    </tr>\n",
       "    <tr>\n",
       "      <th>3230</th>\n",
       "      <td>1607</td>\n",
       "      <td>J3-19</td>\n",
       "      <td>nose</td>\n",
       "      <td>49066</td>\n",
       "      <td>111016</td>\n",
       "      <td>44.197233</td>\n",
       "    </tr>\n",
       "    <tr>\n",
       "      <th>3231</th>\n",
       "      <td>1607</td>\n",
       "      <td>J3-19</td>\n",
       "      <td>head</td>\n",
       "      <td>29221</td>\n",
       "      <td>111016</td>\n",
       "      <td>26.321431</td>\n",
       "    </tr>\n",
       "    <tr>\n",
       "      <th>3232</th>\n",
       "      <td>1607</td>\n",
       "      <td>J3-19</td>\n",
       "      <td>shoulders</td>\n",
       "      <td>15042</td>\n",
       "      <td>111016</td>\n",
       "      <td>13.549398</td>\n",
       "    </tr>\n",
       "    <tr>\n",
       "      <th>3233</th>\n",
       "      <td>1607</td>\n",
       "      <td>J3-19</td>\n",
       "      <td>hips</td>\n",
       "      <td>10824</td>\n",
       "      <td>111016</td>\n",
       "      <td>9.749946</td>\n",
       "    </tr>\n",
       "    <tr>\n",
       "      <th>3234</th>\n",
       "      <td>1607</td>\n",
       "      <td>J3-19</td>\n",
       "      <td>tail</td>\n",
       "      <td>25495</td>\n",
       "      <td>111016</td>\n",
       "      <td>22.965158</td>\n",
       "    </tr>\n",
       "  </tbody>\n",
       "</table>\n",
       "</div>"
      ],
      "text/plain": [
       "      ferret  block   landmark  n_missing  n_total  percent_missing\n",
       "3228    1607  J3-19    red_LED     106436   111016        95.874469\n",
       "3229    1607  J3-19   blue_LED      70441   111016        63.451214\n",
       "3230    1607  J3-19       nose      49066   111016        44.197233\n",
       "3231    1607  J3-19       head      29221   111016        26.321431\n",
       "3232    1607  J3-19  shoulders      15042   111016        13.549398\n",
       "3233    1607  J3-19       hips      10824   111016         9.749946\n",
       "3234    1607  J3-19       tail      25495   111016        22.965158"
      ]
     },
     "execution_count": 163,
     "metadata": {},
     "output_type": "execute_result"
    }
   ],
   "source": [
    "df.query(\"ferret == 1607 and block == 'J3-19'\")"
   ]
  },
  {
   "cell_type": "code",
   "execution_count": 113,
   "metadata": {},
   "outputs": [
    {
     "data": {
      "text/plain": [
       "(41686, 25)"
      ]
     },
     "execution_count": 113,
     "metadata": {},
     "output_type": "execute_result"
    }
   ],
   "source": [
    "# What does missing data look like in the resulting file\n",
    "dlc_results = 'DLC_alignSyncInterp_230304_1535.parquet'\n",
    "\n",
    "bad_block = vload.load_parquet(data_dir/dlc_results, fnum=1607, block='J3-52')\n",
    "bad_block.shape"
   ]
  },
  {
   "cell_type": "code",
   "execution_count": 115,
   "metadata": {},
   "outputs": [
    {
     "data": {
      "text/plain": [
       "fnum                       1607\n",
       "block                     J3-52\n",
       "red_LEDx                    NaN\n",
       "red_LEDy                    NaN\n",
       "red_LEDlikelihood      0.000588\n",
       "blue_LEDx                   NaN\n",
       "blue_LEDy                   NaN\n",
       "blue_LEDlikelihood     0.000261\n",
       "nosex                       0.0\n",
       "nosey                       0.0\n",
       "noselikelihood              0.0\n",
       "headx                       0.0\n",
       "heady                       0.0\n",
       "headlikelihood              0.0\n",
       "shouldersx                  0.0\n",
       "shouldersy                  0.0\n",
       "shoulderslikelihood         0.0\n",
       "hipsx                       0.0\n",
       "hipsy                       0.0\n",
       "hipslikelihood              0.0\n",
       "tailx                       0.0\n",
       "taily                       0.0\n",
       "taillikelihood              0.0\n",
       "frame                        10\n",
       "time                   0.433333\n",
       "Name: 10, dtype: object"
      ]
     },
     "execution_count": 115,
     "metadata": {},
     "output_type": "execute_result"
    }
   ],
   "source": [
    "bad_block.iloc[10]"
   ]
  },
  {
   "cell_type": "markdown",
   "metadata": {},
   "source": []
  }
 ],
 "metadata": {
  "kernelspec": {
   "display_name": "env",
   "language": "python",
   "name": "python3"
  },
  "language_info": {
   "codemirror_mode": {
    "name": "ipython",
    "version": 3
   },
   "file_extension": ".py",
   "mimetype": "text/x-python",
   "name": "python",
   "nbconvert_exporter": "python",
   "pygments_lexer": "ipython3",
   "version": "3.8.3"
  },
  "orig_nbformat": 4
 },
 "nbformat": 4,
 "nbformat_minor": 2
}
