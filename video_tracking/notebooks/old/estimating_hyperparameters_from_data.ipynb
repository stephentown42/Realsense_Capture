{
 "cells": [
  {
   "cell_type": "markdown",
   "metadata": {},
   "source": []
  },
  {
   "cell_type": "markdown",
   "metadata": {},
   "source": [
    "# Estimating Hyperparameters From Data\n",
    "\n",
    "Initial tracking data is noisy and contains a number of error values that occur when the tracking code reports a low quality of fit (reflected by a very wide gaussian needed to try and fit the LED signal in a particular color channel). We can also identify poor tracking using the distance between LEDs, which should always be within a biologically plausible range. The code here is designed to check that range of plausible distances and to visualize the distribution of fit metrics in order to establish a threshold from which to exclude frames in which we have low confidence in the tracking."
   ]
  },
  {
   "cell_type": "code",
   "execution_count": 1,
   "metadata": {},
   "outputs": [],
   "source": [
    "from pathlib import Path\n",
    "import sys\n",
    "\n",
    "import matplotlib.pyplot as plt\n",
    "import numpy as np\n",
    "\n",
    "sys.path.insert(0, str(Path.cwd().parent))\n",
    "\n",
    "import loading as vload                 # Local modules from repo\n",
    "import loading as vplot\n",
    "import transform as vtran\n"
   ]
  },
  {
   "cell_type": "code",
   "execution_count": 2,
   "metadata": {},
   "outputs": [
    {
     "name": "stdout",
     "output_type": "stream",
     "text": [
      "(49049030, 9)\n"
     ]
    }
   ],
   "source": [
    "# Load data from all the sessions on which we used Matlab to track LEDs (this is ~50 million frames, so can take a minute)\n",
    "file_path = '~/Data/Task_Switching/head_tracking/LED_positions/LED_data_221005_1454.parquet'\n",
    "\n",
    "df = vload.load_matlab_parquet(file_path)\n",
    "print(df.shape)"
   ]
  },
  {
   "cell_type": "markdown",
   "metadata": {},
   "source": [
    "## Visualize the quality of fit for all data\n",
    "\n",
    "Quality of fit is measured using the ratio between the amplitude and standard deviation of the gaussian fitted to the LED signal in each image. Larger values indicate better fit. The values are averaged across x and y axes, for which gaussians are fit indepenently.\n",
    "\n",
    "For consistency with the DeepLabCut measure of fit quality, we call this \"Likelihood\" but it doesn't have any connection to the statistical measure from Bayes (maybe we should thus rename it)."
   ]
  },
  {
   "cell_type": "code",
   "execution_count": 4,
   "metadata": {},
   "outputs": [
    {
     "data": {
      "image/png": "[encoded data removed]",
      "text/plain": [
       "<Figure size 864x432 with 2 Axes>"
      ]
     },
     "metadata": {
      "needs_background": "light"
     },
     "output_type": "display_data"
    }
   ],
   "source": [
    "# Plot bin data\n",
    "bins = np.arange(0, 5, 0.1)\n",
    "\n",
    "fig, axs = plt.subplots(1, 2, sharey=True, **{'figsize':(12,6)})\n",
    "\n",
    "df['blue_LEDlikelihood'].hist(bins=bins, ax=axs[0])\n",
    "df['red_LEDlikelihood'].hist(bins=bins, ax=axs[1],**{'color':'r'})\n",
    "\n",
    "axs[0].set_title('Blue LED')\n",
    "axs[1].set_title('Red LED')\n",
    "\n",
    "axs[0].set_ylabel('Frames (n)')\n",
    "\n",
    "axs[0].set_xlabel('Mean (Amplitude / Std. Dev)')\n",
    "axs[1].set_xlabel('Mean (Amplitude / Std. Dev)')\n",
    "\n",
    "plt.show()\n",
    "# plt.savefig('Methods/video_tracking/images/first_pass_fit.png')\n",
    "# plt.close()"
   ]
  },
  {
   "cell_type": "markdown",
   "metadata": {},
   "source": [
    "## Visualizing LED separation\n",
    "\n",
    "* Remove poor quality data (based on the above histograms, we select a minimum threshold of 0.2)\n",
    "* Compute distance between LEDs\n",
    "* Plot distribution of distances\n",
    "\n",
    "Note, we plot the LED separation after considering the quality of data in step 1 rather than before it, as we explicitly expect there to be poor quality tracking in some conditions (e.g. when the animal is only partly in view)."
   ]
  },
  {
   "cell_type": "code",
   "execution_count": 5,
   "metadata": {},
   "outputs": [
    {
     "name": "stdout",
     "output_type": "stream",
     "text": [
      "(31623865, 7)\n"
     ]
    }
   ],
   "source": [
    "# Remove values which we have little confidence in\n",
    "df = vtran.filter_for_low_likelihoods(df, threshold=0.2)\n",
    "df = df.dropna().drop(columns=['blue_LEDlikelihood', 'red_LEDlikelihood'])\n",
    "\n",
    "print(df.shape)"
   ]
  },
  {
   "cell_type": "code",
   "execution_count": 6,
   "metadata": {},
   "outputs": [],
   "source": [
    "# Compute distance between red and blue LEDs on each frame\n",
    "df = df.assign(distance = lambda x: np.sqrt((x.blue_LEDy - x.red_LEDy)**2 + (x.blue_LEDx - x.red_LEDx)**2))"
   ]
  },
  {
   "cell_type": "code",
   "execution_count": 7,
   "metadata": {},
   "outputs": [
    {
     "data": {
      "image/png": "[encoded data removed]",
      "text/plain": [
       "<Figure size 432x288 with 1 Axes>"
      ]
     },
     "metadata": {
      "needs_background": "light"
     },
     "output_type": "display_data"
    }
   ],
   "source": [
    "# Draw histogram showing distribution of distances\n",
    "ax = df['distance'].hist(bins=np.arange(0, 500, 5))\n",
    "ax.set_xticks(np.arange(0,500,50))\n",
    "ax.set_xlabel('Pixels')\n",
    "ax.set_ylabel('Frames (n)')\n",
    "ax.set_title('Distance between blue and red LEDs')\n",
    "\n",
    "# plt.savefig('Methods/video_tracking/images/first_pass_red_blue_distance.png')\n",
    "# plt.close()\n",
    "plt.show()"
   ]
  }
 ],
 "metadata": {
  "kernelspec": {
   "display_name": "env",
   "language": "python",
   "name": "python3"
  },
  "language_info": {
   "codemirror_mode": {
    "name": "ipython",
    "version": 3
   },
   "file_extension": ".py",
   "mimetype": "text/x-python",
   "name": "python",
   "nbconvert_exporter": "python",
   "pygments_lexer": "ipython3",
   "version": "3.8.3"
  },
  "orig_nbformat": 4,
  "vscode": {
   "interpreter": {
    "hash": "a96886583f31708cfb6cc6d2120a51e71f6458b5680cf250de459195f32e3988"
   }
  }
 },
 "nbformat": 4,
 "nbformat_minor": 2
}
