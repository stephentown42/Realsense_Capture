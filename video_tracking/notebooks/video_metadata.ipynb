{
 "cells": [
  {
   "attachments": {},
   "cell_type": "markdown",
   "metadata": {},
   "source": [
    "# Video Metadata\n",
    "\n",
    "The project involved multiple cameras, each of which may have moved or used different exposure settings, and the method of synchronization changed across the project. It is therefore hard to keep track of what video tracking data is available and when. This notebook aims to provide a guide to help us understand what is available and for when.\n",
    "\n",
    "Let's start by getting the details of all available videos from the project database:"
   ]
  },
  {
   "cell_type": "code",
   "execution_count": 4,
   "metadata": {},
   "outputs": [],
   "source": [
    "%matplotlib inline\n",
    "\n",
    "import os, sys\n",
    "from pathlib import Path\n",
    "\n",
    "from dotenv import load_dotenv\n",
    "\n",
    "import matplotlib.pyplot as plt\n",
    "import pandas as pd\n",
    "\n",
    "load_dotenv()\n",
    "\n",
    "sys.path.insert(0, str(Path.cwd().parent.parent.parent))\n",
    "from lib import utils"
   ]
  },
  {
   "cell_type": "code",
   "execution_count": 5,
   "metadata": {},
   "outputs": [
    {
     "data": {
      "text/html": [
       "<div>\n",
       "<style scoped>\n",
       "    .dataframe tbody tr th:only-of-type {\n",
       "        vertical-align: middle;\n",
       "    }\n",
       "\n",
       "    .dataframe tbody tr th {\n",
       "        vertical-align: top;\n",
       "    }\n",
       "\n",
       "    .dataframe thead th {\n",
       "        text-align: right;\n",
       "    }\n",
       "</style>\n",
       "<table border=\"1\" class=\"dataframe\">\n",
       "  <thead>\n",
       "    <tr style=\"text-align: right;\">\n",
       "      <th></th>\n",
       "      <th>session_dt</th>\n",
       "      <th>ferret</th>\n",
       "      <th>block</th>\n",
       "      <th>filename</th>\n",
       "      <th>frame_count</th>\n",
       "      <th>frame_width</th>\n",
       "      <th>frame_height</th>\n",
       "      <th>default_fps</th>\n",
       "      <th>tdt_samps</th>\n",
       "      <th>rv2</th>\n",
       "      <th>webcam</th>\n",
       "    </tr>\n",
       "  </thead>\n",
       "  <tbody>\n",
       "    <tr>\n",
       "      <th>0</th>\n",
       "      <td>2016-03-23 09:26:30.438</td>\n",
       "      <td>1506</td>\n",
       "      <td>J1-17</td>\n",
       "      <td>2016-03-23_Track_09-26-31.avi</td>\n",
       "      <td>18378.0</td>\n",
       "      <td>640.0</td>\n",
       "      <td>480.0</td>\n",
       "      <td>30.0</td>\n",
       "      <td>False</td>\n",
       "      <td>False</td>\n",
       "      <td>True</td>\n",
       "    </tr>\n",
       "    <tr>\n",
       "      <th>1</th>\n",
       "      <td>2016-03-23 09:26:30.438</td>\n",
       "      <td>1506</td>\n",
       "      <td>J1-17</td>\n",
       "      <td>F1506_Phoenix_Block_J1-17_Vid0.avi</td>\n",
       "      <td>55530.0</td>\n",
       "      <td>640.0</td>\n",
       "      <td>480.0</td>\n",
       "      <td>30.0</td>\n",
       "      <td>False</td>\n",
       "      <td>True</td>\n",
       "      <td>False</td>\n",
       "    </tr>\n",
       "    <tr>\n",
       "      <th>2</th>\n",
       "      <td>2016-03-23 17:44:56.668</td>\n",
       "      <td>1506</td>\n",
       "      <td>J1-19</td>\n",
       "      <td>2016-03-23_Track_17-44-57.avi</td>\n",
       "      <td>23724.0</td>\n",
       "      <td>640.0</td>\n",
       "      <td>480.0</td>\n",
       "      <td>30.0</td>\n",
       "      <td>False</td>\n",
       "      <td>False</td>\n",
       "      <td>True</td>\n",
       "    </tr>\n",
       "    <tr>\n",
       "      <th>3</th>\n",
       "      <td>2016-03-23 17:44:56.668</td>\n",
       "      <td>1506</td>\n",
       "      <td>J1-19</td>\n",
       "      <td>F1506_Phoenix_Block_J1-19_Vid0.avi</td>\n",
       "      <td>71656.0</td>\n",
       "      <td>640.0</td>\n",
       "      <td>480.0</td>\n",
       "      <td>30.0</td>\n",
       "      <td>False</td>\n",
       "      <td>True</td>\n",
       "      <td>False</td>\n",
       "    </tr>\n",
       "    <tr>\n",
       "      <th>4</th>\n",
       "      <td>2016-03-24 09:05:20.391</td>\n",
       "      <td>1506</td>\n",
       "      <td>J1-20</td>\n",
       "      <td>2016-03-24_Track_09-05-20.avi</td>\n",
       "      <td>33576.0</td>\n",
       "      <td>640.0</td>\n",
       "      <td>480.0</td>\n",
       "      <td>30.0</td>\n",
       "      <td>False</td>\n",
       "      <td>False</td>\n",
       "      <td>True</td>\n",
       "    </tr>\n",
       "  </tbody>\n",
       "</table>\n",
       "</div>"
      ],
      "text/plain": [
       "               session_dt  ferret  block                            filename  \\\n",
       "0 2016-03-23 09:26:30.438    1506  J1-17       2016-03-23_Track_09-26-31.avi   \n",
       "1 2016-03-23 09:26:30.438    1506  J1-17  F1506_Phoenix_Block_J1-17_Vid0.avi   \n",
       "2 2016-03-23 17:44:56.668    1506  J1-19       2016-03-23_Track_17-44-57.avi   \n",
       "3 2016-03-23 17:44:56.668    1506  J1-19  F1506_Phoenix_Block_J1-19_Vid0.avi   \n",
       "4 2016-03-24 09:05:20.391    1506  J1-20       2016-03-24_Track_09-05-20.avi   \n",
       "\n",
       "   frame_count  frame_width  frame_height  default_fps  tdt_samps    rv2  \\\n",
       "0      18378.0        640.0         480.0         30.0      False  False   \n",
       "1      55530.0        640.0         480.0         30.0      False   True   \n",
       "2      23724.0        640.0         480.0         30.0      False  False   \n",
       "3      71656.0        640.0         480.0         30.0      False   True   \n",
       "4      33576.0        640.0         480.0         30.0      False  False   \n",
       "\n",
       "   webcam  \n",
       "0    True  \n",
       "1   False  \n",
       "2    True  \n",
       "3   False  \n",
       "4    True  "
      ]
     },
     "execution_count": 5,
     "metadata": {},
     "output_type": "execute_result"
    }
   ],
   "source": [
    "videos = utils.query_postgres(\"SELECT * FROM task_switch.video_files;\")\n",
    "videos.head()"
   ]
  },
  {
   "attachments": {},
   "cell_type": "markdown",
   "metadata": {},
   "source": [
    "Each session may have multiple videos - we first want to split the data into those sessions that have an RV2 file. I'm sure the code below could be improved, but it's all I can figure out at the moment in 30C with no AC..."
   ]
  },
  {
   "cell_type": "code",
   "execution_count": null,
   "metadata": {},
   "outputs": [],
   "source": [
    "has_RV2, no_RV2 = [],[]\n",
    "\n",
    "for session, s_data in videos.groupby('session_dt'):\n",
    "\n",
    "    if any(s_data['rv2']):\n",
    "        has_RV2.append(s_data)\n",
    "    else:\n",
    "        no_RV2.append(s_data)\n",
    "\n",
    "has_RV2 = pd.concat(has_RV2)\n",
    "no_RV2 = pd.concat(no_RV2)\n",
    "\n",
    "print(f\"Original data ({videos.shape[0]} rows)\")\n",
    "print(f\"Data for sessions with RV2 videos ({has_RV2.shape[0]} rows)\")\n",
    "print(f\"Data for sessions without RV2 videos ({no_RV2.shape[0]} rows)\")"
   ]
  },
  {
   "cell_type": "code",
   "execution_count": null,
   "metadata": {},
   "outputs": [],
   "source": [
    "no_RV2.plot.scatter(x='session_dt', y='ferret')\n",
    "plt.yticks(no_RV2.ferret.unique())\n",
    "plt.show()"
   ]
  },
  {
   "attachments": {},
   "cell_type": "markdown",
   "metadata": {},
   "source": [
    "Look at the relative numbers of blocks for each ferret:"
   ]
  },
  {
   "cell_type": "code",
   "execution_count": null,
   "metadata": {},
   "outputs": [],
   "source": [
    "def count_sessions(df, colname):\n",
    "\n",
    "    return (\n",
    "        df\n",
    "        .groupby('ferret')\n",
    "        .agg({'block':['count']})\n",
    "        .rename({'count':colname}, axis=1)\n",
    "    )\n",
    "\n",
    "pd.concat([\n",
    "    count_sessions(has_RV2[has_RV2.rv2], 'has_RV2'),\n",
    "    count_sessions(no_RV2, 'no_RV2')\n",
    "], axis=1)"
   ]
  },
  {
   "attachments": {},
   "cell_type": "markdown",
   "metadata": {},
   "source": [
    "## 1. Sessions without RV2 videos\n",
    "\n",
    "There are a small number of blocks for which there is no RV2 video, usually because the file was corrupted during recording. \n",
    "\n",
    "The cell below shows those videos for F1506_Phoenix, for whome the videos in Block J2-37 and J2-44 might be recoverable."
   ]
  },
  {
   "cell_type": "code",
   "execution_count": null,
   "metadata": {},
   "outputs": [],
   "source": [
    "no_RV2[no_RV2.ferret == 1506]"
   ]
  },
  {
   "attachments": {},
   "cell_type": "markdown",
   "metadata": {},
   "source": [
    "In other cases, such as F1517, all that is available in the blocks without RV2 data are the secondary videos for which frame rates are much lower. It's not clear how viable it would be to build a separate synchronization pipeline for these videos when they are so rare."
   ]
  },
  {
   "cell_type": "code",
   "execution_count": null,
   "metadata": {},
   "outputs": [],
   "source": [
    "no_RV2.query(\"ferret == 1517\")"
   ]
  },
  {
   "cell_type": "code",
   "execution_count": null,
   "metadata": {},
   "outputs": [],
   "source": [
    "no_RV2.query(\"ferret == 1518\")"
   ]
  },
  {
   "cell_type": "code",
   "execution_count": null,
   "metadata": {},
   "outputs": [],
   "source": [
    "no_RV2.query(\"ferret == 1602\")"
   ]
  },
  {
   "attachments": {},
   "cell_type": "markdown",
   "metadata": {},
   "source": [
    "What about the later ferrets"
   ]
  },
  {
   "cell_type": "code",
   "execution_count": null,
   "metadata": {},
   "outputs": [],
   "source": [
    "no_RV2.query(\"ferret == 1605 and not tdt_samps\")"
   ]
  },
  {
   "cell_type": "code",
   "execution_count": null,
   "metadata": {},
   "outputs": [],
   "source": [
    "no_RV2.query(\"ferret == 1605 and tdt_samps\")"
   ]
  },
  {
   "attachments": {},
   "cell_type": "markdown",
   "metadata": {},
   "source": [
    "## 2. Videos without visual signals for synchronization\n",
    "\n",
    "The majority of videos are synchronized using the times of visual stimuli to identify dropped frames and estimate ongoing frame rate. However this isn't possible for some sessions in which only auditory stimuli were presented. Let's get a list of those blocks for which only auditory trials were presented, and link that to the relevant RV2 videos here:\n"
   ]
  },
  {
   "cell_type": "code",
   "execution_count": 19,
   "metadata": {},
   "outputs": [
    {
     "name": "stdout",
     "output_type": "stream",
     "text": [
      "Auditory only sessions: n = 46\n"
     ]
    },
    {
     "data": {
      "text/html": [
       "<div>\n",
       "<style scoped>\n",
       "    .dataframe tbody tr th:only-of-type {\n",
       "        vertical-align: middle;\n",
       "    }\n",
       "\n",
       "    .dataframe tbody tr th {\n",
       "        vertical-align: top;\n",
       "    }\n",
       "\n",
       "    .dataframe thead th {\n",
       "        text-align: right;\n",
       "    }\n",
       "</style>\n",
       "<table border=\"1\" class=\"dataframe\">\n",
       "  <thead>\n",
       "    <tr style=\"text-align: right;\">\n",
       "      <th></th>\n",
       "      <th>ferret</th>\n",
       "      <th>block</th>\n",
       "      <th>session_dt</th>\n",
       "      <th>n_auditory</th>\n",
       "      <th>n_trials</th>\n",
       "      <th>default_fps</th>\n",
       "      <th>filename</th>\n",
       "    </tr>\n",
       "  </thead>\n",
       "  <tbody>\n",
       "    <tr>\n",
       "      <th>0</th>\n",
       "      <td>1506</td>\n",
       "      <td>J1-38</td>\n",
       "      <td>2016-03-28 10:17:51.028</td>\n",
       "      <td>82</td>\n",
       "      <td>82</td>\n",
       "      <td>30.0</td>\n",
       "      <td>F1506_Phoenix_Block_J1-38_Vid0.avi</td>\n",
       "    </tr>\n",
       "    <tr>\n",
       "      <th>1</th>\n",
       "      <td>1518</td>\n",
       "      <td>J2-6</td>\n",
       "      <td>2016-04-12 08:39:20.258</td>\n",
       "      <td>26</td>\n",
       "      <td>26</td>\n",
       "      <td>30.0</td>\n",
       "      <td>F1518_Rita_Block_J2-6_Vid0.avi</td>\n",
       "    </tr>\n",
       "    <tr>\n",
       "      <th>2</th>\n",
       "      <td>1518</td>\n",
       "      <td>J2-7</td>\n",
       "      <td>2016-04-12 17:07:38.024</td>\n",
       "      <td>53</td>\n",
       "      <td>53</td>\n",
       "      <td>30.0</td>\n",
       "      <td>F1518_Rita_Block_J2-7_Vid0.avi</td>\n",
       "    </tr>\n",
       "    <tr>\n",
       "      <th>3</th>\n",
       "      <td>1602</td>\n",
       "      <td>J2-9</td>\n",
       "      <td>2016-09-28 12:41:19.461</td>\n",
       "      <td>2</td>\n",
       "      <td>2</td>\n",
       "      <td>11.0</td>\n",
       "      <td>F1602_Agatha_Block_J2-9_Vid0.avi</td>\n",
       "    </tr>\n",
       "    <tr>\n",
       "      <th>4</th>\n",
       "      <td>1605</td>\n",
       "      <td>J2-52</td>\n",
       "      <td>2017-04-13 10:26:51.696</td>\n",
       "      <td>31</td>\n",
       "      <td>31</td>\n",
       "      <td>30.0</td>\n",
       "      <td>F1605_Snorlax_Block_J2-52_Vid0.avi</td>\n",
       "    </tr>\n",
       "  </tbody>\n",
       "</table>\n",
       "</div>"
      ],
      "text/plain": [
       "   ferret  block              session_dt  n_auditory  n_trials  default_fps  \\\n",
       "0    1506  J1-38 2016-03-28 10:17:51.028          82        82         30.0   \n",
       "1    1518   J2-6 2016-04-12 08:39:20.258          26        26         30.0   \n",
       "2    1518   J2-7 2016-04-12 17:07:38.024          53        53         30.0   \n",
       "3    1602   J2-9 2016-09-28 12:41:19.461           2         2         11.0   \n",
       "4    1605  J2-52 2017-04-13 10:26:51.696          31        31         30.0   \n",
       "\n",
       "                             filename  \n",
       "0  F1506_Phoenix_Block_J1-38_Vid0.avi  \n",
       "1      F1518_Rita_Block_J2-6_Vid0.avi  \n",
       "2      F1518_Rita_Block_J2-7_Vid0.avi  \n",
       "3    F1602_Agatha_Block_J2-9_Vid0.avi  \n",
       "4  F1605_Snorlax_Block_J2-52_Vid0.avi  "
      ]
     },
     "execution_count": 19,
     "metadata": {},
     "output_type": "execute_result"
    }
   ],
   "source": [
    "query = \"\"\" \n",
    "WITH CTE AS (\n",
    "SELECT \n",
    "\tss.ferret,\n",
    "\tss.block,\n",
    "\tss.datetime as session_dt,\n",
    "\tSUM( CASE WHEN ii.modality = 'Auditory' THEN 1 ELSE 0 END) as n_auditory,\n",
    "\tCOUNT(*) as n_trials\n",
    "FROM task_switch.sessions ss\n",
    "INNER JOIN task_switch.trials tt\n",
    "\tON ss.datetime = tt.session_dt\n",
    "INNER JOIN task_switch.stimuli ii\n",
    "\tON tt.stim_id = ii.id\n",
    "GROUP BY ss.datetime)\n",
    "\n",
    "SELECT \n",
    "\tvf.ferret, vf.block, session_dt, n_auditory, n_trials, default_fps,\tvf.filename\n",
    "FROM task_switch.video_files vf\n",
    "INNER JOIN (\n",
    "\tSELECT * \n",
    "\tFROM CTE \n",
    "\tWHERE n_auditory = n_trials \n",
    "\t\tAND block IS NOT NULL) aud_sessions\n",
    "\tUSING(session_dt)\n",
    "WHERE rv2 is true\n",
    "ORDER BY vf.ferret, vf.block;\"\"\"\n",
    "\n",
    "sound_only_sessions = utils.query_postgres(query)\n",
    "\n",
    "print(f\"Auditory only sessions: n = {sound_only_sessions.shape[0]}\")\n",
    "sound_only_sessions.head()"
   ]
  },
  {
   "attachments": {},
   "cell_type": "markdown",
   "metadata": {},
   "source": [
    "For these blocks, we will have to approximate frame times using a fixed frame rate. We know in advance that the frame rates associated with each video file  are "
   ]
  },
  {
   "cell_type": "code",
   "execution_count": 24,
   "metadata": {},
   "outputs": [],
   "source": [
    "data_dir = Path(os.getenv(\"local_home\"))\n",
    "ongoing_fps_dir = data_dir / 'Task_Switching/head_tracking/ongoing_fps'\n",
    "\n",
    "# Load fps estimate \n",
    "ongoing_fps = []\n",
    "for fps_file in ongoing_fps_dir.glob('*.csv'):\n",
    "\n",
    "    ongoing_fps.append(\n",
    "        pd.read_csv(fps_file, usecols=['n_frames','fps'])\n",
    "    )\n",
    "\n",
    "ongoing_fps = pd.concat(ongoing_fps)"
   ]
  },
  {
   "cell_type": "code",
   "execution_count": 31,
   "metadata": {},
   "outputs": [
    {
     "name": "stdout",
     "output_type": "stream",
     "text": [
      "Grand averege fps = 29.866522783879137\n"
     ]
    }
   ],
   "source": [
    "avg_fps = sum(ongoing_fps['fps'] * ongoing_fps['n_frames']) / ongoing_fps['n_frames'].sum()\n",
    "print(f\"Grand averege fps = {avg_fps}\")"
   ]
  },
  {
   "attachments": {},
   "cell_type": "markdown",
   "metadata": {},
   "source": [
    "## 3. Directly-synchronized videos\n",
    "\n",
    "These are videos in which video capture script included a call to the other data acquisition system (TDT) to request it's clock time (in samples from the start of the recording block) for every frame. Although subject to some delays, this approach has a better ceiling on temporal alignment than would be possible with a flashing LED. (The best solution would be a frame counter that increments based on a digital output signal).\n",
    "\n",
    "Calibration images have not been associated with these videos yet.\n",
    "\n",
    "The metadata for these files looks off - the frame width and height are \n",
    "\n",
    "### Sessions with timestamps only in images\n",
    "\n",
    "It may be possible to recover these using [pytesseract](https://pypi.org/project/pytesseract/) using [get_tdt_samp_images.py](./../synchronization/get_tdt_samp_images.py) and [clean_OCR_estimates.py](./../synchronization/clean_OCR_estimates.py) (see [ReadMe.md](./../ReadMe.md) for more info).\n",
    "\n",
    " Some videos did not save correctly:\n",
    "* F1605 Block_J5-15 \n",
    "\n",
    " TDT samples were logged incorrectly as all zeros for:\n",
    "* F1605 Block_J5-16"
   ]
  },
  {
   "cell_type": "code",
   "execution_count": null,
   "metadata": {},
   "outputs": [],
   "source": [
    "no_RV2.query(\"'2018-01-29 00:00:00.000' < session_dt < '2018-02-20 00:00:00.000'\")"
   ]
  },
  {
   "attachments": {},
   "cell_type": "markdown",
   "metadata": {},
   "source": [
    "### Sessions after which TDT samples were logged\n",
    "\n",
    "Note: TDT samples were logged incorrectly as all zeros for:\n",
    "* F1605 Block_J5-32 \n",
    "* F1613 Block_J5-24\n",
    "\n",
    "The rest look initially as would be expected."
   ]
  },
  {
   "cell_type": "code",
   "execution_count": null,
   "metadata": {},
   "outputs": [],
   "source": [
    "no_RV2.query(\"session_dt > '2018-02-20 00:00:00.000'\")"
   ]
  },
  {
   "attachments": {},
   "cell_type": "markdown",
   "metadata": {},
   "source": [
    "## Tracking Metadata\n",
    "\n",
    "RV2 videos fall into two categories based on image exposure, with separate deeplabcut models used for tracking LEDs (low exposure) and LEDs + other landmarks (head, nose, shoulders, hips and tail; high exposure). \n",
    "\n",
    "The tracking for videos with direct synchronization was done using a separate deeplabcut model (FrontiersLED_HEmat-Sisyphus-2022-09-01) that was based on a different image size."
   ]
  },
  {
   "cell_type": "code",
   "execution_count": null,
   "metadata": {},
   "outputs": [],
   "source": [
    "from dotenv import load_dotenv\n",
    "from pathlib import Path\n",
    "import os\n",
    "\n",
    "load_dotenv()\n",
    "\n",
    "file_path = Path(os.getenv('local_home')) / 'Task_Switching/head_tracking'\n",
    "file_names = {\n",
    "    \"high_exposure\" : 'DLC_data_high_230213_0322.parquet',\n",
    "    \"low_exposure\" : 'DLC_data_low_230213_0227.parquet'\n",
    "}"
   ]
  },
  {
   "cell_type": "code",
   "execution_count": null,
   "metadata": {},
   "outputs": [],
   "source": [
    "from collections import Counter\n",
    "import itertools\n",
    "import pyarrow.parquet as pq\n",
    "\n",
    "# Load schemas from each file\n",
    "schemas = dict()\n",
    "\n",
    "for file_type, file_name in file_names.items():\n",
    "    schemas[file_type] = pq.read_schema( file_path / file_name)\n",
    "\n",
    "# Tell us how many times is each feature available\n",
    "Counter(\n",
    "    itertools.chain(\n",
    "        *[schemas[k].names for k in schemas.keys()]\n",
    "        )\n",
    "    )"
   ]
  },
  {
   "cell_type": "code",
   "execution_count": null,
   "metadata": {},
   "outputs": [],
   "source": [
    "# List all blocks\n",
    "import pandas as pd\n",
    "tracking = []\n",
    "\n",
    "for file_type, file_name in file_names.items():\n",
    "    print(f\"Loading {file_name} - may take a second...\")\n",
    "    \n",
    "    temp = pq.read_table( file_path / file_name, columns=['fnum','block'])\n",
    "    temp = temp.to_pandas().drop_duplicates()\n",
    "    temp['file'] = file_type[0]\n",
    "\n",
    "    tracking.append(temp)\n",
    "\n",
    "tracking = pd.concat(tracking)\n",
    "print(tracking.shape)"
   ]
  },
  {
   "attachments": {},
   "cell_type": "markdown",
   "metadata": {},
   "source": [
    "Are all RV2 video files accounted for? No, we haven't considered how to process low exposure videos when the animal wasn't recorded from, and therefore has no LEDs."
   ]
  },
  {
   "cell_type": "code",
   "execution_count": null,
   "metadata": {},
   "outputs": [],
   "source": [
    "# Select blocks for which tracking isn't in the input data\n",
    "is_RV2 = videos[videos.rv2]\n",
    "\n",
    "rv2_tracking = pd.merge(\n",
    "    left = is_RV2[['ferret','block','filename']],\n",
    "    right = tracking,\n",
    "    how = 'left',\n",
    "    left_on = ['ferret','block'],\n",
    "    right_on = ['fnum','block']\n",
    ")\n",
    "\n",
    "if rv2_tracking['file'].isna().sum() == 0:\n",
    "    print(f\"All RV2 files (n = {rv2_tracking.shape[0]}) accounted for\")\n",
    "else:\n",
    "    rv2_tracking.query(\"file.isna()\").sort_values(['ferret','block'])"
   ]
  },
  {
   "attachments": {},
   "cell_type": "markdown",
   "metadata": {},
   "source": [
    "### Tracking results for videos that aren't part of the project\n",
    "\n",
    "Are there any videos in the tracking data that aren't included in the videos associated with the project.\n",
    "\n",
    "This can happen, for example when a video has been recorded for a short period in which the animals didn't do any trials and the session was stopped - usually this was related to a technical issue in which another block with a new number was started.\n",
    "\n",
    "Notes:\n",
    "Sessions without videos: F1607 Block_J3-12"
   ]
  },
  {
   "cell_type": "code",
   "execution_count": null,
   "metadata": {},
   "outputs": [],
   "source": [
    "video_blocks = videos[['ferret','block']].drop_duplicates()\n",
    "video_blocks.shape"
   ]
  }
 ],
 "metadata": {
  "kernelspec": {
   "display_name": "env",
   "language": "python",
   "name": "python3"
  },
  "language_info": {
   "codemirror_mode": {
    "name": "ipython",
    "version": 3
   },
   "file_extension": ".py",
   "mimetype": "text/x-python",
   "name": "python",
   "nbconvert_exporter": "python",
   "pygments_lexer": "ipython3",
   "version": "3.8.3"
  },
  "orig_nbformat": 4,
  "vscode": {
   "interpreter": {
    "hash": "a96886583f31708cfb6cc6d2120a51e71f6458b5680cf250de459195f32e3988"
   }
  }
 },
 "nbformat": 4,
 "nbformat_minor": 2
}
