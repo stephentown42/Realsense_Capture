{
 "cells": [
  {
   "attachments": {},
   "cell_type": "markdown",
   "metadata": {},
   "source": [
    "# Missing synchronization data\n",
    "\n",
    "We have tracking results for quite a lot of sessions for which we have no estimates of ongoing frame rate. Why?"
   ]
  },
  {
   "cell_type": "code",
   "execution_count": 1,
   "metadata": {},
   "outputs": [],
   "source": [
    "from pathlib import Path\n",
    "import os, sys\n",
    "\n",
    "from dotenv import load_dotenv\n",
    "\n",
    "# Load environmental variables and define paths\n",
    "load_dotenv()\n",
    "\n",
    "sys.path.insert(0, str(Path.cwd().parent.parent.parent))\n",
    "from lib import utils"
   ]
  },
  {
   "cell_type": "code",
   "execution_count": 2,
   "metadata": {},
   "outputs": [
    {
     "name": "stdout",
     "output_type": "stream",
     "text": [
      "7 blocks with missing data\n"
     ]
    }
   ],
   "source": [
    "# Read blocks without ongoing fps estimates from log file\n",
    "data_path = Path(os.getenv(\"local_home\")) / 'Task_Switching/head_tracking'\n",
    "log_file = '2023-03-02_DLC_alignsync_15-11-28.log'\n",
    "\n",
    "with open(data_path / log_file) as f:\n",
    "    log = f.read().splitlines()\n",
    "\n",
    "blocks = [x.split(' ')[-2:] for x in log if 'Ongoing fps estimates not found' in x]\n",
    "print(f\"{len(blocks)} blocks with missing data\")"
   ]
  },
  {
   "attachments": {},
   "cell_type": "markdown",
   "metadata": {},
   "source": [
    "The code below shows that edge detection events exist for only one block (F1607_Block_J4-1)"
   ]
  },
  {
   "cell_type": "code",
   "execution_count": 3,
   "metadata": {},
   "outputs": [
    {
     "name": "stdout",
     "output_type": "stream",
     "text": [
      "F1607_Block_J4-1.csv\n",
      "No visual stimulus edges for 6 of 7 blocks\n"
     ]
    }
   ],
   "source": [
    "# Check if edge detection has been performed on any of these blocks\n",
    "edge_detect_path = data_path / 'edge_detect_test'\n",
    "no_edge_blocks = []\n",
    "\n",
    "for current_block in blocks:\n",
    "    \n",
    "    target_file = current_block[0] + '_' + current_block[1] + '.csv'\n",
    "    if (edge_detect_path / target_file).exists():\n",
    "        print(target_file)\n",
    "    else:\n",
    "        no_edge_blocks.append(current_block)        \n",
    "\n",
    "print(f\"No visual stimulus edges for {len(no_edge_blocks)} of {len(blocks)} blocks\")"
   ]
  },
  {
   "attachments": {},
   "cell_type": "markdown",
   "metadata": {},
   "source": [
    "Now lets check if visual stimulus detection has been performed on these blocks. For this, we'll need the full names of the subjects"
   ]
  },
  {
   "cell_type": "code",
   "execution_count": 4,
   "metadata": {},
   "outputs": [
    {
     "name": "stdout",
     "output_type": "stream",
     "text": [
      "['F1607', 'Block_J4-15']\n",
      "['F1607', 'Block_J4-19']\n",
      "['F1607', 'Block_J4-20']\n",
      "['F1607', 'Block_J4-21']\n",
      "['F1607', 'Block_J4-25']\n",
      "No visual stimulus edges for 1 of 6 blocks\n"
     ]
    }
   ],
   "source": [
    "# Get full names of subjects\n",
    "ferrets = utils.query_postgres(\"SELECT id, name FROM task_switch.ferrets;\")\n",
    "ferrets['full_name'] = 'F' + ferrets['id'].astype(str) + '_' + ferrets['name']\n",
    "\n",
    "# Look for stimulus-triggered frame values (the precursor to edge detection events) for each block remaining\n",
    "stim_val_path = data_path / 'StimTriggeredFrameVals'\n",
    "stim_val_missing = []\n",
    "\n",
    "for current_block in no_edge_blocks:\n",
    "\n",
    "    idx = ferrets[ferrets['id'] == int(current_block[0][1:])].index     # Add name of subject to path\n",
    "    full_name = ferrets.loc[idx, 'full_name'].values[0]\n",
    "    ferret_path = stim_val_path / full_name\n",
    "\n",
    "    stim_val_files = [i for i in ferret_path.glob('*_' + current_block[1] + '_*')]\n",
    "    if len(stim_val_files) > 0:\n",
    "        print(current_block)\n",
    "    else:\n",
    "        stim_val_missing.append(current_block)\n",
    "\n",
    "print(f\"No visual stimulus edges for {len(stim_val_missing)} of {len(no_edge_blocks)} blocks\")"
   ]
  },
  {
   "attachments": {},
   "cell_type": "markdown",
   "metadata": {},
   "source": [
    "The majority of files are lacking assessment for visual synchronization signals - why? The code below shows that it's not because the video files are missing from the database... "
   ]
  },
  {
   "cell_type": "code",
   "execution_count": null,
   "metadata": {},
   "outputs": [],
   "source": [
    "query = \"\"\" \n",
    "    SELECT *\n",
    "    FROM task_switch.video_files\n",
    "    WHERE ferret = %(fnum)s\n",
    "        AND block = %(block)s;\n",
    "\"\"\"\n",
    "\n",
    "in_videotable = []\n",
    "\n",
    "for current_block in stim_val_missing:\n",
    "\n",
    "    block_params = {'fnum':int(current_block[0][1:]), 'block':current_block[1].replace('Block_','')}\n",
    "    vid_files = utils.query_postgres(query, params=block_params)\n",
    "\n",
    "    if vid_files.shape[0] > 0:\n",
    "        in_videotable.append(current_block)\n",
    "    else:\n",
    "        print(f\"{vid_files['filename'].to_list()}\")\n",
    "        \n",
    "\n",
    "print(f\"{len(in_videotable)} of {len(stim_val_missing)} blocks in video files table\")"
   ]
  },
  {
   "attachments": {},
   "cell_type": "markdown",
   "metadata": {},
   "source": [
    "What about the table containing trial times needed to trigger visual signal capture in the synchronization process. This data is held in the MCS_trials table"
   ]
  },
  {
   "cell_type": "code",
   "execution_count": null,
   "metadata": {},
   "outputs": [],
   "source": [
    "query = \"\"\" \n",
    "SELECT \n",
    "    session_dt, starttime, starttimecorrected\n",
    "FROM task_switch.mcs_trials_20230219\n",
    "WHERE session_dt = (\n",
    "    SELECT datetime\n",
    "    FROM task_switch.sessions\n",
    "    WHERE ferret = %(fnum)s \n",
    "        AND block = %(block)s\n",
    ");\"\"\"\n",
    "\n",
    "\n",
    "in_mcs_table = []\n",
    "\n",
    "for current_block in stim_val_missing:\n",
    "\n",
    "    block_params = {'fnum':int(current_block[0][1:]), 'block':current_block[1].replace('Block_','')}\n",
    "    mcs_trials = utils.query_postgres(query, params=block_params)\n",
    "\n",
    "    if mcs_trials.shape[0] > 0:\n",
    "        in_mcs_table.append(current_block)\n",
    "    else:\n",
    "        print(current_block)\n",
    "\n",
    "print(f\"{len(in_mcs_table)} of {len(stim_val_missing)} blocks in video files table\")"
   ]
  },
  {
   "attachments": {},
   "cell_type": "markdown",
   "metadata": {},
   "source": [
    "Ok, there looks like a lot of potential to extract more data and recover these files - is that possible using the get_vis_stim_in_video? Not generally, as the timestamp data used to trigger video frame data capture uses an old method based on individual csv files containing corrected start times.\n",
    "\n",
    "If we go all the way back to get the timestamps (using verify_trial)\n",
    "\n",
    "F1518_Block_J2-6: Auditory trials only\n",
    "F1518_Block_J2-7: Auditory trials only\n",
    "F1602_Block_J2-9: Auditory trials only\n",
    "F1605_Block_\n",
    "    J2-112: Resolved\n",
    "    J2-128: Resolved\n",
    "    J2-134: Resolved\n",
    "    J2-52: Auditory trials only\n",
    "    J2-8: Resolved\n",
    "    J3-9: Resolved\n",
    "    J3-6: Resolved\n",
    "    J3-22: Resolved\n",
    "    J3-10: Resolved\n",
    "    J3-11: Resolved\n",
    "    J3-101: Auditory trials only (1 trial)\n",
    "    J4-10: Trials at locations (9 and 3) without bounding box\n",
    "    J4-13: Auditory trials only\n",
    "    J4-15: Auditory trials only\n",
    "    J4-22: Auditory trials only\n",
    "    J4-23: Auditory trials only\n",
    "    J4-24: Auditory trials only\n",
    "    J4-25: Auditory trials only\n",
    "    J4-26: Auditory trials only\n",
    "    J4-30: Auditory trials only\n",
    "    J4-31: Auditory trials only\n",
    "\n",
    "F1607\n",
    "    J2-125: Resolved\n",
    "    J2-126: Resolved\n",
    "    J2-128: Auditory trials only (n=2)\n",
    "    J2-135: Resolved\n",
    "    J2-17: Auditory trials only\n",
    "    J2-18: Auditory trials only\n",
    "    J2-36: Resolved\n",
    "    J2-38: Auditory trials only\n",
    "    J2-39: Auditory trials only\n",
    "    J2-41: Auditory trials only\n",
    "    J2-43: Auditory trials only\n",
    "    J2-44: Auditory trials only\n",
    "    J2-48: Auditory trials only\n",
    "    J2-49: Auditory trials only\n",
    "    J2-67: Resolved\n",
    "    J2-7: Auditory trials only\n",
    "    J2-77: Auditory trials only\n",
    "    J2-78: Auditory trials only\n",
    "    J2-79: Auditory trials only\n",
    "    J2-80: Auditory trials only\n",
    "    J2-82: Auditory trials only\n",
    "    J3-113: Auditory trials only\n",
    "    J3-114: Auditory trials only\n",
    "    J3-23: Auditory trials only\n",
    "    J3-33: Auditory trials only\n",
    "    J3-54: Auditory trials only\n",
    "    J3-57: Auditory trials only\n",
    "    J3-6: Resolved\n",
    "    J3-80: Auditory trials only\n",
    "    J3-95: Auditory trials only\n",
    "    J4-27: Auditory trials only\n",
    "    J4-33: Auditory trials only\n",
    "    J5-3: Auditory trials only\n",
    "    J5-8: Auditory trials only\n",
    "\n",
    "F1613\n",
    "    J2-21: Resolved\n",
    "    J2-46: Resolved\n",
    "    J2-49: Resolved\n",
    "    J3-8: Resolved\n",
    "    J3-99: Auditory trials only"
   ]
  },
  {
   "cell_type": "code",
   "execution_count": null,
   "metadata": {},
   "outputs": [],
   "source": [
    "in_mcs_table"
   ]
  },
  {
   "cell_type": "code",
   "execution_count": null,
   "metadata": {},
   "outputs": [],
   "source": [
    "block_params = {'fnum':1605, 'block':'J2-112'}\n",
    "mcs_trials = utils.query_postgres(query, params=block_params)\n",
    "mcs_trials.head()"
   ]
  }
 ],
 "metadata": {
  "kernelspec": {
   "display_name": "env",
   "language": "python",
   "name": "python3"
  },
  "language_info": {
   "codemirror_mode": {
    "name": "ipython",
    "version": 3
   },
   "file_extension": ".py",
   "mimetype": "text/x-python",
   "name": "python",
   "nbconvert_exporter": "python",
   "pygments_lexer": "ipython3",
   "version": "3.8.3"
  },
  "orig_nbformat": 4,
  "vscode": {
   "interpreter": {
    "hash": "a96886583f31708cfb6cc6d2120a51e71f6458b5680cf250de459195f32e3988"
   }
  }
 },
 "nbformat": 4,
 "nbformat_minor": 2
}
